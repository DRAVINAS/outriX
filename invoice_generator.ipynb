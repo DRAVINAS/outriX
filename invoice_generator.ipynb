{
 "cells": [
  {
   "cell_type": "code",
   "execution_count": 1,
   "id": "17c98d93-0322-4e37-a8f0-2257b756a088",
   "metadata": {},
   "outputs": [
    {
     "name": "stdout",
     "output_type": "stream",
     "text": [
      "Defaulting to user installation because normal site-packages is not writeable\n",
      "Collecting fpdf\n",
      "  Downloading fpdf-1.7.2.tar.gz (39 kB)\n",
      "  Preparing metadata (setup.py): started\n",
      "  Preparing metadata (setup.py): finished with status 'done'\n",
      "Building wheels for collected packages: fpdf\n",
      "  Building wheel for fpdf (setup.py): started\n",
      "  Building wheel for fpdf (setup.py): finished with status 'done'\n",
      "  Created wheel for fpdf: filename=fpdf-1.7.2-py2.py3-none-any.whl size=40714 sha256=fc1866fd416fb05574eeae421754ff611fa778943dd825d3cc9c3a76e1316401\n",
      "  Stored in directory: c:\\users\\dell\\appdata\\local\\pip\\cache\\wheels\\6e\\62\\11\\dc73d78e40a218ad52e7451f30166e94491be013a7850b5d75\n",
      "Successfully built fpdf\n",
      "Installing collected packages: fpdf\n",
      "Successfully installed fpdf-1.7.2\n"
     ]
    }
   ],
   "source": [
    "!pip install fpdf"
   ]
  },
  {
   "cell_type": "code",
   "execution_count": 5,
   "id": "291861cc-fc74-497d-8474-4f382b7a242e",
   "metadata": {},
   "outputs": [
    {
     "name": "stdout",
     "output_type": "stream",
     "text": [
      "Defaulting to user installation because normal site-packages is not writeable\n",
      "Collecting fpdf2\n",
      "  Downloading fpdf2-2.8.3-py2.py3-none-any.whl.metadata (69 kB)\n",
      "Requirement already satisfied: defusedxml in c:\\programdata\\anaconda3\\lib\\site-packages (from fpdf2) (0.7.1)\n",
      "Requirement already satisfied: Pillow!=9.2.*,>=6.2.2 in c:\\programdata\\anaconda3\\lib\\site-packages (from fpdf2) (10.4.0)\n",
      "Requirement already satisfied: fonttools>=4.34.0 in c:\\programdata\\anaconda3\\lib\\site-packages (from fpdf2) (4.51.0)\n",
      "Downloading fpdf2-2.8.3-py2.py3-none-any.whl (245 kB)\n",
      "Installing collected packages: fpdf2\n",
      "Successfully installed fpdf2-2.8.3\n",
      "Note: you may need to restart the kernel to use updated packages.\n"
     ]
    }
   ],
   "source": [
    "pip install fpdf2"
   ]
  },
  {
   "cell_type": "code",
   "execution_count": 12,
   "id": "2bed9a35-df8d-493e-b5f1-4a8eef4bf4b1",
   "metadata": {},
   "outputs": [
    {
     "name": "stdout",
     "output_type": "stream",
     "text": [
      "Invoice generated: invoice_kalki.pdf\n"
     ]
    }
   ],
   "source": [
    "from fpdf import FPDF\n",
    "\n",
    "class PDF(FPDF):\n",
    "    def header(self):\n",
    "        self.set_font('Arial', 'B', 18)\n",
    "        self.cell(0, 10, 'TAX INVOICE', 0, 1, 'C')\n",
    "        self.set_font('Arial', '', 10)\n",
    "        self.cell(0, 5, '15th main ,banglore-86', 0, 1, 'C')\n",
    "        self.ln(10)  # Adjusted spacing\n",
    "\n",
    "    def footer(self):\n",
    "        self.set_y(-15)\n",
    "        self.set_font('Arial', 'I', 8)\n",
    "        self.cell(0, 10, f'Page {self.page_no()}', 0, 0, 'C')\n",
    "\n",
    "    def client_info(self, client_name, invoice_no, date):\n",
    "        self.set_font('Arial', 'B', 12)\n",
    "        self.cell(40, 8, 'Bill To:', 0, 0)\n",
    "        self.set_font('Arial', '', 12)\n",
    "        self.cell(0, 8, client_name, 0, 1)\n",
    "        self.set_font('Arial', '', 10)\n",
    "        self.cell(40, 6, 'Invoice No:', 0, 0)\n",
    "        self.cell(50, 6, invoice_no, 0, 0)\n",
    "        self.cell(40, 6, 'Date:', 0, 0)\n",
    "        self.cell(0, 6, date, 0, 1)\n",
    "        self.ln(10)\n",
    "\n",
    "    def items_table(self, items, gst_percent=18):\n",
    "        w = [10, 80, 25, 25, 25, 25]\n",
    "        self.set_font('Arial', 'B', 10)\n",
    "        \n",
    "        # Set header background color\n",
    "        self.set_fill_color(200, 220, 255)\n",
    "        \n",
    "        # Table headers\n",
    "        self.cell(w[0], 8, 'No.', 1, 0, 'C', 1)\n",
    "        self.cell(w[1], 8, 'Description', 1, 0, 'L', 1)\n",
    "        self.cell(w[2], 8, 'Quantity', 1, 0, 'C', 1)  # Changed to Quantity\n",
    "        self.cell(w[3], 8, 'Rate (Rs.)', 1, 0, 'R', 1)\n",
    "        self.cell(w[4], 8, 'GST (%)', 1, 0, 'C', 1)\n",
    "        self.cell(w[5], 8, 'Amount (Rs.)', 1, 1, 'R', 1)\n",
    "\n",
    "        self.set_font('Arial', '', 10)\n",
    "        total = 0\n",
    "        for i, item in enumerate(items, 1):\n",
    "            self.cell(w[0], 8, str(i), 'LR', 0, 'C')\n",
    "            self.cell(w[1], 8, item['name'], 'LR', 0, 'L')\n",
    "            self.cell(w[2], 8, str(item['qty']), 'LR', 0, 'C')\n",
    "            self.cell(w[3], 8, f\"{item['rate']:,.2f}\", 'LR', 0, 'R')\n",
    "            self.cell(w[4], 8, str(gst_percent), 'LR', 0, 'C')\n",
    "            amount = item['qty'] * item['rate']\n",
    "            self.cell(w[5], 8, f\"{amount:,.2f}\", 'LR', 1, 'R')\n",
    "            total += amount\n",
    "\n",
    "        self.cell(sum(w), 0, '', 'T')\n",
    "        self.ln(5)\n",
    "        self.set_font('Arial', 'B', 10)\n",
    "        self.cell(110, 8, '', 0, 0)\n",
    "        self.cell(30, 8, 'Total:', 0, 0, 'R')\n",
    "        self.cell(25, 8, f'Rs. {total:,.2f}', 0, 1, 'R')\n",
    "\n",
    "def create_invoice(client_name, items, invoice_no, date, filename=\"invoice.pdf\"):\n",
    "    pdf = PDF()\n",
    "    pdf.add_page()\n",
    "    pdf.client_info(client_name, invoice_no, date)\n",
    "    pdf.items_table(items)\n",
    "    pdf.output(filename)\n",
    "    print(f\"Invoice generated: {filename}\")\n",
    "\n",
    "# Example Usage\n",
    "items = [\n",
    "    {\"name\": \"Toor dal\", \"qty\": 1, \"rate\": 135},\n",
    "    {\"name\": \"milk\", \"qty\": 1, \"rate\": 28},\n",
    "]\n",
    "\n",
    "create_invoice(\n",
    "    client_name=\"kalki rice and oil stores\",\n",
    "    items=items,\n",
    "    invoice_no=\"INV-2025-002\",\n",
    "    date=\"06/08/2025\",\n",
    "    filename=\"invoice_kalki.pdf\"\n",
    ")\n"
   ]
  },
  {
   "cell_type": "code",
   "execution_count": null,
   "id": "7d327b69-fcb7-4698-9ba7-06c181c0fd0d",
   "metadata": {},
   "outputs": [],
   "source": []
  }
 ],
 "metadata": {
  "kernelspec": {
   "display_name": "Python 3 (ipykernel)",
   "language": "python",
   "name": "python3"
  },
  "language_info": {
   "codemirror_mode": {
    "name": "ipython",
    "version": 3
   },
   "file_extension": ".py",
   "mimetype": "text/x-python",
   "name": "python",
   "nbconvert_exporter": "python",
   "pygments_lexer": "ipython3",
   "version": "3.12.7"
  }
 },
 "nbformat": 4,
 "nbformat_minor": 5
}
