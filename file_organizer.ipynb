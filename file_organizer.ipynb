{
 "cells": [
  {
   "cell_type": "code",
   "execution_count": 5,
   "id": "66deeebe-eb5d-4c24-9dd3-b5f7588d7e51",
   "metadata": {},
   "outputs": [
    {
     "name": "stdout",
     "output_type": "stream",
     "text": [
      "✅ Copied: CV 1.docx --> Documents/\n",
      "✅ Copied: DHANU1.pdf --> Documents/\n",
      "✅ Copied: PPT_template_for_project_PhaseI_Review1.pptx --> Presentations/\n",
      "\n",
      "📊 Summary Report:\n",
      "----------------------------\n",
      "Documents: 2 file(s)\n",
      "Presentations: 1 file(s)\n",
      "----------------------------\n",
      "📦 Total files copied: 3\n"
     ]
    }
   ],
   "source": [
    "import os\n",
    "import shutil\n",
    "from collections import defaultdict\n",
    "\n",
    "#  Set your folder path (update this path to your target directory)\n",
    "target_dir = r\"C:\\Users\\Dell\\OneDrive\\Desktop\\organizer\"  # ← Replace this\n",
    "\n",
    "# Define file type categories\n",
    "file_categories = {\n",
    "    \"Images\": [\".jpg\", \".jpeg\", \".png\", \".gif\", \".bmp\", \".svg\"],\n",
    "    \"Documents\": [\".pdf\", \".docx\", \".doc\", \".txt\", \".odt\", \".rtf\"],\n",
    "    \"Spreadsheets\": [\".xls\", \".xlsx\", \".csv\"],\n",
    "    \"Presentations\": [\".ppt\", \".pptx\"],\n",
    "    \"Videos\": [\".mp4\", \".mkv\", \".flv\", \".avi\", \".mov\"],\n",
    "    \"Audio\": [\".mp3\", \".wav\", \".aac\", \".ogg\"],\n",
    "    \"Compressed\": [\".zip\", \".rar\", \".7z\", \".tar\", \".gz\"],\n",
    "    \"Scripts\": [\".py\", \".js\", \".html\", \".css\", \".php\", \".java\", \".c\", \".cpp\"],\n",
    "    \"Executables\": [\".exe\", \".msi\", \".apk\"]\n",
    "}\n",
    "\n",
    "#  Organize files by copy, and track summary\n",
    "def organize_files_by_copy():\n",
    "    summary = defaultdict(int)\n",
    "    total_files = 0\n",
    "\n",
    "    for file in os.listdir(target_dir):\n",
    "        file_path = os.path.join(target_dir, file)\n",
    "\n",
    "        if os.path.isfile(file_path):\n",
    "            total_files += 1\n",
    "            ext = os.path.splitext(file)[1].lower()\n",
    "            copied = False\n",
    "\n",
    "            for category, extensions in file_categories.items():\n",
    "                if ext in extensions:\n",
    "                    category_folder = os.path.join(target_dir, category)\n",
    "                    os.makedirs(category_folder, exist_ok=True)\n",
    "                    shutil.copy2(file_path, os.path.join(category_folder, file))\n",
    "                    summary[category] += 1\n",
    "                    print(f\"✅ Copied: {file} --> {category}/\")\n",
    "                    copied = True\n",
    "                    break\n",
    "\n",
    "            if not copied:\n",
    "                others_folder = os.path.join(target_dir, \"Others\")\n",
    "                os.makedirs(others_folder, exist_ok=True)\n",
    "                shutil.copy2(file_path, os.path.join(others_folder, file))\n",
    "                summary[\"Others\"] += 1\n",
    "                print(f\"✅ Copied: {file} --> Others/\")\n",
    "\n",
    "    if total_files == 0:\n",
    "        print(\"⚠️ No files found to copy in the specified directory.\")\n",
    "    else:\n",
    "        print(\"\\n📊 Summary Report:\")\n",
    "        print(\"----------------------------\")\n",
    "        for category, count in summary.items():\n",
    "            print(f\"{category}: {count} file(s)\")\n",
    "        print(\"----------------------------\")\n",
    "        print(f\"📦 Total files copied: {sum(summary.values())}\")\n",
    "\n",
    "#  Run the function\n",
    "organize_files_by_copy()\n"
   ]
  },
  {
   "cell_type": "code",
   "execution_count": null,
   "id": "d16538d6-3f8c-4180-8147-bab31e9c72e7",
   "metadata": {},
   "outputs": [],
   "source": []
  }
 ],
 "metadata": {
  "kernelspec": {
   "display_name": "Python 3 (ipykernel)",
   "language": "python",
   "name": "python3"
  },
  "language_info": {
   "codemirror_mode": {
    "name": "ipython",
    "version": 3
   },
   "file_extension": ".py",
   "mimetype": "text/x-python",
   "name": "python",
   "nbconvert_exporter": "python",
   "pygments_lexer": "ipython3",
   "version": "3.12.7"
  }
 },
 "nbformat": 4,
 "nbformat_minor": 5
}
